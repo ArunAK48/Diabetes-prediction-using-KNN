{
 "cells": [
  {
   "cell_type": "markdown",
   "id": "13af390e",
   "metadata": {},
   "source": [
    "### Import libraries"
   ]
  },
  {
   "cell_type": "code",
   "execution_count": 1,
   "id": "2eaeb5c3",
   "metadata": {},
   "outputs": [],
   "source": [
    "import numpy as np\n",
    "import pandas as pd"
   ]
  },
  {
   "cell_type": "markdown",
   "id": "f958e7a4",
   "metadata": {},
   "source": [
    "### load datasets"
   ]
  },
  {
   "cell_type": "code",
   "execution_count": 2,
   "id": "79eafad7",
   "metadata": {},
   "outputs": [
    {
     "data": {
      "text/html": [
       "<div>\n",
       "<style scoped>\n",
       "    .dataframe tbody tr th:only-of-type {\n",
       "        vertical-align: middle;\n",
       "    }\n",
       "\n",
       "    .dataframe tbody tr th {\n",
       "        vertical-align: top;\n",
       "    }\n",
       "\n",
       "    .dataframe thead th {\n",
       "        text-align: right;\n",
       "    }\n",
       "</style>\n",
       "<table border=\"1\" class=\"dataframe\">\n",
       "  <thead>\n",
       "    <tr style=\"text-align: right;\">\n",
       "      <th></th>\n",
       "      <th>age</th>\n",
       "      <th>education-num</th>\n",
       "      <th>sex</th>\n",
       "      <th>capital-gain</th>\n",
       "      <th>hours-per-week</th>\n",
       "      <th>salary</th>\n",
       "    </tr>\n",
       "  </thead>\n",
       "  <tbody>\n",
       "    <tr>\n",
       "      <th>0</th>\n",
       "      <td>39</td>\n",
       "      <td>13</td>\n",
       "      <td>Male</td>\n",
       "      <td>2174</td>\n",
       "      <td>40</td>\n",
       "      <td>&lt;=50K</td>\n",
       "    </tr>\n",
       "    <tr>\n",
       "      <th>1</th>\n",
       "      <td>50</td>\n",
       "      <td>13</td>\n",
       "      <td>Male</td>\n",
       "      <td>0</td>\n",
       "      <td>13</td>\n",
       "      <td>&lt;=50K</td>\n",
       "    </tr>\n",
       "    <tr>\n",
       "      <th>2</th>\n",
       "      <td>38</td>\n",
       "      <td>9</td>\n",
       "      <td>Male</td>\n",
       "      <td>0</td>\n",
       "      <td>40</td>\n",
       "      <td>&lt;=50K</td>\n",
       "    </tr>\n",
       "    <tr>\n",
       "      <th>3</th>\n",
       "      <td>53</td>\n",
       "      <td>7</td>\n",
       "      <td>Male</td>\n",
       "      <td>0</td>\n",
       "      <td>40</td>\n",
       "      <td>&lt;=50K</td>\n",
       "    </tr>\n",
       "    <tr>\n",
       "      <th>4</th>\n",
       "      <td>28</td>\n",
       "      <td>13</td>\n",
       "      <td>Female</td>\n",
       "      <td>0</td>\n",
       "      <td>40</td>\n",
       "      <td>&lt;=50K</td>\n",
       "    </tr>\n",
       "    <tr>\n",
       "      <th>...</th>\n",
       "      <td>...</td>\n",
       "      <td>...</td>\n",
       "      <td>...</td>\n",
       "      <td>...</td>\n",
       "      <td>...</td>\n",
       "      <td>...</td>\n",
       "    </tr>\n",
       "    <tr>\n",
       "      <th>32556</th>\n",
       "      <td>27</td>\n",
       "      <td>12</td>\n",
       "      <td>Female</td>\n",
       "      <td>0</td>\n",
       "      <td>38</td>\n",
       "      <td>&lt;=50K</td>\n",
       "    </tr>\n",
       "    <tr>\n",
       "      <th>32557</th>\n",
       "      <td>40</td>\n",
       "      <td>9</td>\n",
       "      <td>Male</td>\n",
       "      <td>0</td>\n",
       "      <td>40</td>\n",
       "      <td>&gt;50K</td>\n",
       "    </tr>\n",
       "    <tr>\n",
       "      <th>32558</th>\n",
       "      <td>58</td>\n",
       "      <td>9</td>\n",
       "      <td>Female</td>\n",
       "      <td>0</td>\n",
       "      <td>40</td>\n",
       "      <td>&lt;=50K</td>\n",
       "    </tr>\n",
       "    <tr>\n",
       "      <th>32559</th>\n",
       "      <td>22</td>\n",
       "      <td>9</td>\n",
       "      <td>Male</td>\n",
       "      <td>0</td>\n",
       "      <td>20</td>\n",
       "      <td>&lt;=50K</td>\n",
       "    </tr>\n",
       "    <tr>\n",
       "      <th>32560</th>\n",
       "      <td>52</td>\n",
       "      <td>9</td>\n",
       "      <td>Female</td>\n",
       "      <td>15024</td>\n",
       "      <td>40</td>\n",
       "      <td>&gt;50K</td>\n",
       "    </tr>\n",
       "  </tbody>\n",
       "</table>\n",
       "<p>32561 rows × 6 columns</p>\n",
       "</div>"
      ],
      "text/plain": [
       "       age  education-num      sex  capital-gain  hours-per-week  salary\n",
       "0       39             13     Male          2174              40   <=50K\n",
       "1       50             13     Male             0              13   <=50K\n",
       "2       38              9     Male             0              40   <=50K\n",
       "3       53              7     Male             0              40   <=50K\n",
       "4       28             13   Female             0              40   <=50K\n",
       "...    ...            ...      ...           ...             ...     ...\n",
       "32556   27             12   Female             0              38   <=50K\n",
       "32557   40              9     Male             0              40    >50K\n",
       "32558   58              9   Female             0              40   <=50K\n",
       "32559   22              9     Male             0              20   <=50K\n",
       "32560   52              9   Female         15024              40    >50K\n",
       "\n",
       "[32561 rows x 6 columns]"
      ]
     },
     "execution_count": 2,
     "metadata": {},
     "output_type": "execute_result"
    }
   ],
   "source": [
    "dataset = pd.read_csv('income_eva.csv')\n",
    "dataset"
   ]
  },
  {
   "cell_type": "markdown",
   "id": "47784e2e",
   "metadata": {},
   "source": [
    "### Summarize the data"
   ]
  },
  {
   "cell_type": "code",
   "execution_count": 3,
   "id": "2336869b",
   "metadata": {
    "scrolled": true
   },
   "outputs": [
    {
     "name": "stdout",
     "output_type": "stream",
     "text": [
      "(32561, 6)\n",
      "   age  education-num      sex  capital-gain  hours-per-week  salary\n",
      "0   39             13     Male          2174              40   <=50K\n",
      "1   50             13     Male             0              13   <=50K\n",
      "2   38              9     Male             0              40   <=50K\n",
      "3   53              7     Male             0              40   <=50K\n",
      "4   28             13   Female             0              40   <=50K\n",
      "5   37             14   Female             0              40   <=50K\n",
      "6   49              5   Female             0              16   <=50K\n",
      "7   52              9     Male             0              45    >50K\n",
      "8   31             14   Female         14084              50    >50K\n",
      "9   42             13     Male          5178              40    >50K\n"
     ]
    }
   ],
   "source": [
    "print(dataset.shape)\n",
    "print(dataset.head(10))"
   ]
  },
  {
   "cell_type": "markdown",
   "id": "3a4918f4",
   "metadata": {},
   "source": [
    "### Mapping salary data to binary value (iam done in 3 method)"
   ]
  },
  {
   "cell_type": "code",
   "execution_count": null,
   "id": "2602fd75",
   "metadata": {},
   "outputs": [],
   "source": [
    "#from sklearn import preprocessing\n",
    "#label_encoder = preprocessing.LabelEncoder()\n",
    "#dataset['salary']=label_encoder.fit_transform(dataset['salary'])\n",
    "#dataset.head(20)"
   ]
  },
  {
   "cell_type": "code",
   "execution_count": null,
   "id": "6fac615c",
   "metadata": {},
   "outputs": [],
   "source": [
    "#dataset[\"salary\"]=dataset[\"salary\"].apply(lambda x: 1 if x == \">50K\" else 0)\n",
    "#dataset.head(5)"
   ]
  },
  {
   "cell_type": "code",
   "execution_count": 4,
   "id": "1827bb60",
   "metadata": {},
   "outputs": [
    {
     "name": "stdout",
     "output_type": "stream",
     "text": [
      "    age  education-num      sex  capital-gain  hours-per-week  salary\n",
      "0    39             13     Male          2174              40       0\n",
      "1    50             13     Male             0              13       0\n",
      "2    38              9     Male             0              40       0\n",
      "3    53              7     Male             0              40       0\n",
      "4    28             13   Female             0              40       0\n",
      "5    37             14   Female             0              40       0\n",
      "6    49              5   Female             0              16       0\n",
      "7    52              9     Male             0              45       1\n",
      "8    31             14   Female         14084              50       1\n",
      "9    42             13     Male          5178              40       1\n",
      "10   37             10     Male             0              80       1\n",
      "11   30             13     Male             0              40       1\n",
      "12   23             13   Female             0              30       0\n",
      "13   32             12     Male             0              50       0\n",
      "14   40             11     Male             0              40       1\n",
      "15   34              4     Male             0              45       0\n",
      "16   25              9     Male             0              35       0\n",
      "17   32              9     Male             0              40       0\n",
      "18   38              7     Male             0              50       0\n",
      "19   43             14   Female             0              45       1\n"
     ]
    }
   ],
   "source": [
    "income_set=set(dataset['salary'])\n",
    "dataset['salary']=dataset['salary'].map({' <=50K': 0, ' >50K': 1}).astype(int)\n",
    "print(dataset.head(20))"
   ]
  },
  {
   "cell_type": "markdown",
   "id": "b8db34fe",
   "metadata": {},
   "source": [
    "### Mapping sex data to binary values ( i am done in 2 method)"
   ]
  },
  {
   "cell_type": "code",
   "execution_count": null,
   "id": "b51e3b12",
   "metadata": {},
   "outputs": [],
   "source": [
    "#from sklearn import preprocessing\n",
    "#label_encoder = preprocessing.LabelEncoder()\n",
    "#dataset['sex']=label_encoder.fit_transform(dataset['sex'])\n",
    "#dataset.head(20)"
   ]
  },
  {
   "cell_type": "code",
   "execution_count": 5,
   "id": "df458de8",
   "metadata": {},
   "outputs": [
    {
     "name": "stdout",
     "output_type": "stream",
     "text": [
      "    age  education-num  sex  capital-gain  hours-per-week  salary\n",
      "0    39             13    0          2174              40       0\n",
      "1    50             13    0             0              13       0\n",
      "2    38              9    0             0              40       0\n",
      "3    53              7    0             0              40       0\n",
      "4    28             13    1             0              40       0\n",
      "5    37             14    1             0              40       0\n",
      "6    49              5    1             0              16       0\n",
      "7    52              9    0             0              45       1\n",
      "8    31             14    1         14084              50       1\n",
      "9    42             13    0          5178              40       1\n",
      "10   37             10    0             0              80       1\n",
      "11   30             13    0             0              40       1\n",
      "12   23             13    1             0              30       0\n",
      "13   32             12    0             0              50       0\n",
      "14   40             11    0             0              40       1\n",
      "15   34              4    0             0              45       0\n",
      "16   25              9    0             0              35       0\n",
      "17   32              9    0             0              40       0\n",
      "18   38              7    0             0              50       0\n",
      "19   43             14    1             0              45       1\n"
     ]
    }
   ],
   "source": [
    "income_set=set(dataset['sex'])\n",
    "dataset['sex']=dataset['sex'].map({' Male': 0, ' Female': 1}).astype(int)\n",
    "print(dataset.head(20))"
   ]
  },
  {
   "cell_type": "markdown",
   "id": "3266119a",
   "metadata": {},
   "source": [
    "### Segregrate the dataset x(input/independent) &  y(output/dependent)"
   ]
  },
  {
   "cell_type": "code",
   "execution_count": 6,
   "id": "75c66887",
   "metadata": {},
   "outputs": [
    {
     "data": {
      "text/plain": [
       "array([[   39,    13,     0,  2174,    40],\n",
       "       [   50,    13,     0,     0,    13],\n",
       "       [   38,     9,     0,     0,    40],\n",
       "       ...,\n",
       "       [   58,     9,     1,     0,    40],\n",
       "       [   22,     9,     0,     0,    20],\n",
       "       [   52,     9,     1, 15024,    40]], dtype=int64)"
      ]
     },
     "execution_count": 6,
     "metadata": {},
     "output_type": "execute_result"
    }
   ],
   "source": [
    "X = dataset.iloc[:,:-1].values\n",
    "X"
   ]
  },
  {
   "cell_type": "code",
   "execution_count": 7,
   "id": "82af351b",
   "metadata": {},
   "outputs": [
    {
     "data": {
      "text/plain": [
       "array([0, 0, 0, ..., 0, 0, 1])"
      ]
     },
     "execution_count": 7,
     "metadata": {},
     "output_type": "execute_result"
    }
   ],
   "source": [
    "y = dataset.iloc[:, -1].values\n",
    "y"
   ]
  },
  {
   "cell_type": "code",
   "execution_count": 8,
   "id": "8eabd29a",
   "metadata": {},
   "outputs": [],
   "source": [
    "from sklearn.model_selection import train_test_split\n",
    "X_train, X_test, y_train, y_test = train_test_split(X, y, test_size=0.25, random_state=0)"
   ]
  },
  {
   "cell_type": "markdown",
   "id": "4d90cd79",
   "metadata": {},
   "source": [
    "### Feature scaling"
   ]
  },
  {
   "cell_type": "code",
   "execution_count": 9,
   "id": "049d6f7e",
   "metadata": {},
   "outputs": [
    {
     "data": {
      "text/plain": [
       "array([[ 1.49894077, -0.80338299, -0.70255105, -0.14576122, -0.44509689],\n",
       "       [ 2.38045121,  1.53114709,  1.4233841 , -0.14576122, -1.66848877],\n",
       "       [ 0.2501343 ,  1.53114709, -0.70255105, -0.14576122, -0.03729959],\n",
       "       ...,\n",
       "       [-1.14559057, -0.0252063 ,  1.4233841 , -0.14576122, -0.03729959],\n",
       "       [ 0.47051192,  2.30932378, -0.70255105,  0.89747778,  0.3704977 ],\n",
       "       [-0.99867216, -0.0252063 , -0.70255105,  0.20664405,  0.61517608]])"
      ]
     },
     "execution_count": 9,
     "metadata": {},
     "output_type": "execute_result"
    }
   ],
   "source": [
    "from sklearn.preprocessing import StandardScaler\n",
    "sc = StandardScaler()\n",
    "X_train = sc.fit_transform(X_train)\n",
    "X_test = sc.transform(X_test)\n",
    "X_train"
   ]
  },
  {
   "cell_type": "markdown",
   "id": "f8fd1bed",
   "metadata": {},
   "source": [
    "### Finding the best kvalue"
   ]
  },
  {
   "cell_type": "code",
   "execution_count": 10,
   "id": "eeb3d658",
   "metadata": {},
   "outputs": [
    {
     "data": {
      "text/plain": [
       "Text(0, 0.5, 'mean error')"
      ]
     },
     "execution_count": 10,
     "metadata": {},
     "output_type": "execute_result"
    },
    {
     "data": {
      "image/png": "[encoded data removed]",
      "text/plain": [
       "<Figure size 864x432 with 1 Axes>"
      ]
     },
     "metadata": {
      "needs_background": "light"
     },
     "output_type": "display_data"
    }
   ],
   "source": [
    "error=[]\n",
    "from sklearn.neighbors import KNeighborsClassifier\n",
    "import matplotlib.pyplot as plt\n",
    "\n",
    "#calculating error for k value between 1 and 40\n",
    "for i in range(1,40):\n",
    "    model = KNeighborsClassifier(n_neighbors=i)\n",
    "    model.fit(X_train, y_train)\n",
    "    pred_i=model.predict(X_test)\n",
    "    error.append(np.mean(pred_i !=y_test))\n",
    "    \n",
    "plt.figure(figsize=(12,6))\n",
    "plt.plot(range(1,40), error, color='red', linestyle='dashed', marker='o', markerfacecolor=\"blue\", markersize=10)\n",
    "plt.title('Error k rate value')\n",
    "plt.xlabel('kvalue')\n",
    "plt.ylabel('mean error')"
   ]
  },
  {
   "cell_type": "markdown",
   "id": "efbeae7d",
   "metadata": {},
   "source": [
    "### Training"
   ]
  },
  {
   "cell_type": "code",
   "execution_count": 11,
   "id": "76305ca2",
   "metadata": {},
   "outputs": [
    {
     "data": {
      "text/plain": [
       "KNeighborsClassifier()"
      ]
     },
     "execution_count": 11,
     "metadata": {},
     "output_type": "execute_result"
    }
   ],
   "source": [
    "from sklearn.neighbors import KNeighborsClassifier\n",
    "model = KNeighborsClassifier(n_neighbors=5, metric='minkowski', p=2)\n",
    "model.fit(X_train, y_train)"
   ]
  },
  {
   "cell_type": "markdown",
   "id": "20e9f111",
   "metadata": {},
   "source": [
    "### predicting whether new customer with age, salary will buy or not"
   ]
  },
  {
   "cell_type": "code",
   "execution_count": 17,
   "id": "d9a341bc",
   "metadata": {},
   "outputs": [
    {
     "name": "stdout",
     "output_type": "stream",
     "text": [
      "enter new employee age:37\n",
      "enter new employee edu:10\n",
      "enter employee gender 0-male 1-female:0\n",
      "enter new employee capital gain:0\n",
      "enter new employee hours per week:80\n",
      "[1]\n",
      "emp might got salary above 50K\n"
     ]
    }
   ],
   "source": [
    "age =  int(input(\"enter new employee age:\"))\n",
    "edu =  int(input(\"enter new employee edu:\"))\n",
    "sex = int(input(\"enter employee gender 0-male 1-female:\" ))\n",
    "cg =  int(input(\"enter new employee capital gain:\"))\n",
    "wh =  int(input(\"enter new employee hours per week:\"))\n",
    "newemp = [[age, edu, sex, cg, wh]]\n",
    "result = model.predict(sc.transform(newemp ))\n",
    "print(result)\n",
    "\n",
    "if result==1:\n",
    "    print(\"emp might got salary above 50K\")\n",
    "else:\n",
    "    print(\"emp might not got salary above 50K\")"
   ]
  },
  {
   "cell_type": "markdown",
   "id": "04b0bdcb",
   "metadata": {},
   "source": [
    "### Prediction for all test data"
   ]
  },
  {
   "cell_type": "code",
   "execution_count": 12,
   "id": "ffb73af1",
   "metadata": {},
   "outputs": [],
   "source": [
    "y_pred = model.predict(X_test)"
   ]
  },
  {
   "cell_type": "markdown",
   "id": "63e34083",
   "metadata": {},
   "source": [
    "### evaluation model"
   ]
  },
  {
   "cell_type": "code",
   "execution_count": 13,
   "id": "373a10a2",
   "metadata": {},
   "outputs": [
    {
     "name": "stdout",
     "output_type": "stream",
     "text": [
      "Accuraccy of the model:80.93600294804078%\n"
     ]
    }
   ],
   "source": [
    "from sklearn.metrics import confusion_matrix, accuracy_score\n",
    "print(\"Accuraccy of the model:{0}%\".format(accuracy_score(y_test,y_pred)*100))"
   ]
  }
 ],
 "metadata": {
  "kernelspec": {
   "display_name": "Python 3 (ipykernel)",
   "language": "python",
   "name": "python3"
  },
  "language_info": {
   "codemirror_mode": {
    "name": "ipython",
    "version": 3
   },
   "file_extension": ".py",
   "mimetype": "text/x-python",
   "name": "python",
   "nbconvert_exporter": "python",
   "pygments_lexer": "ipython3",
   "version": "3.9.7"
  }
 },
 "nbformat": 4,
 "nbformat_minor": 5
}
